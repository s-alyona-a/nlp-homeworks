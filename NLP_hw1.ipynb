{
  "nbformat": 4,
  "nbformat_minor": 0,
  "metadata": {
    "colab": {
      "provenance": []
    },
    "kernelspec": {
      "name": "python3",
      "display_name": "Python 3"
    },
    "language_info": {
      "name": "python"
    }
  },
  "cells": [
    {
      "cell_type": "markdown",
      "source": [
        "1. Скачиваем все нужные библиотеки"
      ],
      "metadata": {
        "id": "9WdXAOqglYlP"
      }
    },
    {
      "cell_type": "code",
      "execution_count": 1,
      "metadata": {
        "id": "WbeMlT7DU1HZ"
      },
      "outputs": [],
      "source": [
        "import requests"
      ]
    },
    {
      "cell_type": "code",
      "source": [
        "import bs4"
      ],
      "metadata": {
        "id": "kjpVd4BhYJLJ"
      },
      "execution_count": 2,
      "outputs": []
    },
    {
      "cell_type": "code",
      "source": [
        "from bs4 import BeautifulSoup"
      ],
      "metadata": {
        "id": "_eplf4Igk0_g"
      },
      "execution_count": 3,
      "outputs": []
    },
    {
      "cell_type": "code",
      "source": [
        "import time\n",
        "from datetime import datetime\n",
        "import random"
      ],
      "metadata": {
        "id": "nnT7WJaaNwRv"
      },
      "execution_count": 4,
      "outputs": []
    },
    {
      "cell_type": "code",
      "source": [
        "from pymystem3 import Mystem"
      ],
      "metadata": {
        "id": "uVuomHm4Mik7"
      },
      "execution_count": 5,
      "outputs": []
    },
    {
      "cell_type": "code",
      "source": [
        "session = requests.session()"
      ],
      "metadata": {
        "id": "ioZlTJJdTKSn"
      },
      "execution_count": 6,
      "outputs": []
    },
    {
      "cell_type": "markdown",
      "source": [
        "2. Функция для выгрузки отзывов с сайта"
      ],
      "metadata": {
        "id": "R36hAnK2lsEl"
      }
    },
    {
      "cell_type": "code",
      "source": [
        "def feedbacks_loading(link):\n",
        "    positive_list = []\n",
        "    negative_list = []\n",
        "    response = session.get(link)\n",
        "    page = response.text\n",
        "    soup = BeautifulSoup(page, 'html.parser')\n",
        "    ratings = soup.find_all('span', {'class': 'com-star'})\n",
        "    feedbacks_body = soup.find_all('div', {'class': 'text', 'itemprop': 'description'})\n",
        "    for i in range(len(ratings)):\n",
        "        stroka = ''\n",
        "        rating = str(ratings[i])\n",
        "        rate = int(rating[rating.find('meta') + 14])\n",
        "        if rate > 4:\n",
        "            positive_list.append(feedbacks_body[i].text)\n",
        "        elif rate <= 3:\n",
        "            negative_list.append(feedbacks_body[i].text)\n",
        "    return positive_list, negative_list"
      ],
      "metadata": {
        "id": "YfLa3rITbHvH"
      },
      "execution_count": 8,
      "outputs": []
    },
    {
      "cell_type": "code",
      "source": [
        "pos_list, neg_list = feedbacks_loading('https://www.kaluga-poisk.ru/catalog/objects/peppers-pizza-peppers-pitstsa-y/reviews#cm-227550')"
      ],
      "metadata": {
        "id": "2LqdX5GceJs7"
      },
      "execution_count": 9,
      "outputs": []
    },
    {
      "cell_type": "code",
      "source": [
        "print(len(pos_list), len(neg_list))"
      ],
      "metadata": {
        "colab": {
          "base_uri": "https://localhost:8080/"
        },
        "id": "d02PF1pzHOyU",
        "outputId": "7e73b065-c6fd-471b-9de4-71fe67fe8db2"
      },
      "execution_count": 10,
      "outputs": [
        {
          "output_type": "stream",
          "name": "stdout",
          "text": [
            "183 30\n"
          ]
        }
      ]
    },
    {
      "cell_type": "markdown",
      "source": [
        "3. Обрабатываем отзывы с помощью pymystem"
      ],
      "metadata": {
        "id": "bR-cwuoIm9qy"
      }
    },
    {
      "cell_type": "code",
      "source": [
        "positive_set = set()\n",
        "negative_set = set()"
      ],
      "metadata": {
        "id": "Xnw-94CEHzL7"
      },
      "execution_count": 11,
      "outputs": []
    },
    {
      "cell_type": "code",
      "source": [
        "m = Mystem()"
      ],
      "metadata": {
        "id": "Pl-xwi-sMkcb"
      },
      "execution_count": 12,
      "outputs": []
    },
    {
      "cell_type": "code",
      "source": [
        "for text in neg_list:\n",
        "    lemmas = m.lemmatize(text)\n",
        "    text_set = set(lemmas)\n",
        "    negative_set = negative_set | text_set"
      ],
      "metadata": {
        "id": "HAbKjcIuJLfn"
      },
      "execution_count": 13,
      "outputs": []
    },
    {
      "cell_type": "code",
      "source": [
        "k = 0\n",
        "for text in pos_list[::3]:\n",
        "    k += 1\n",
        "    lemmas = m.lemmatize(text)\n",
        "    text_set = set(lemmas)\n",
        "    positive_set = positive_set | text_set\n",
        "    if k == 30:\n",
        "        break"
      ],
      "metadata": {
        "id": "R3-zOZ2iJwcu"
      },
      "execution_count": 14,
      "outputs": []
    },
    {
      "cell_type": "code",
      "source": [
        "only_positive = positive_set - negative_set\n",
        "only_negative = negative_set - positive_set"
      ],
      "metadata": {
        "id": "mO82csfRJ7Au"
      },
      "execution_count": 15,
      "outputs": []
    },
    {
      "cell_type": "code",
      "source": [
        "print(len(positive_set), len(negative_set))\n",
        "print(len(only_positive), len(only_negative))"
      ],
      "metadata": {
        "colab": {
          "base_uri": "https://localhost:8080/"
        },
        "id": "5wM5rXe0e5JE",
        "outputId": "7b5757d6-3b5d-4bf0-cf50-42170255b333"
      },
      "execution_count": 16,
      "outputs": [
        {
          "output_type": "stream",
          "name": "stdout",
          "text": [
            "459 806\n",
            "225 572\n"
          ]
        }
      ]
    },
    {
      "cell_type": "markdown",
      "source": [
        "4. Скачиваем тестовые отзывы (они о другой пиццерии)"
      ],
      "metadata": {
        "id": "bIYYVS-WnVs5"
      }
    },
    {
      "cell_type": "code",
      "source": [
        "test_positive, test_negative = feedbacks_loading('https://www.kaluga-poisk.ru/catalog/objects/paprika-kaluga/reviews#cm-20978')"
      ],
      "metadata": {
        "id": "f0EfUkqgKnDH"
      },
      "execution_count": 17,
      "outputs": []
    },
    {
      "cell_type": "code",
      "source": [
        "print(len(test_positive), len(test_negative))"
      ],
      "metadata": {
        "colab": {
          "base_uri": "https://localhost:8080/"
        },
        "id": "5uV8aVmHLXty",
        "outputId": "08e825af-4bae-4ede-bb92-143b830bcfc0"
      },
      "execution_count": 18,
      "outputs": [
        {
          "output_type": "stream",
          "name": "stdout",
          "text": [
            "9 8\n"
          ]
        }
      ]
    },
    {
      "cell_type": "markdown",
      "source": [
        "5. Функция, которая возвращает тон отзыва и считает вероятности того, будет ли он положительным или отрицательным"
      ],
      "metadata": {
        "id": "ozPEzz-ino1u"
      }
    },
    {
      "cell_type": "code",
      "source": [
        "def check_tone(text, positive_set, negative_set):\n",
        "    prediction = 0\n",
        "    probability = [0, 0]\n",
        "    lemmas = m.lemmatize(text)\n",
        "    text_set = set(lemmas)\n",
        "    positive_len = len(text_set & positive_set)\n",
        "    negative_len = len(text_set & negative_set)\n",
        "    if negative_len > positive_len:\n",
        "        prediction = -1\n",
        "    else:\n",
        "        prediction = 1\n",
        "    if positive_len + negative_len != 0:\n",
        "        probability = [positive_len / (positive_len + negative_len), negative_len / (positive_len + negative_len)]\n",
        "    return prediction, probability"
      ],
      "metadata": {
        "id": "KCr0xKtmOOV4"
      },
      "execution_count": 19,
      "outputs": []
    },
    {
      "cell_type": "markdown",
      "source": [
        "6. Считаем, как хорошо работает функция на тестовых данных"
      ],
      "metadata": {
        "id": "nbXM8bsyoFLp"
      }
    },
    {
      "cell_type": "code",
      "source": [
        "right_answers = 0\n",
        "all_answers = 0\n",
        "print('positive')\n",
        "for text in test_positive:\n",
        "    pred, prob = check_tone(text, only_positive, only_negative)\n",
        "    print(prob)\n",
        "    if pred == 1:\n",
        "        right_answers += 1\n",
        "    all_answers += 1\n",
        "print('negative')\n",
        "for text in test_negative:\n",
        "    pred, prob = check_tone(text, only_positive, only_negative)\n",
        "    print(prob)\n",
        "    if pred == -1:\n",
        "        right_answers += 1\n",
        "    all_answers += 1\n",
        "print('accuracy_score =', right_answers / all_answers)"
      ],
      "metadata": {
        "colab": {
          "base_uri": "https://localhost:8080/"
        },
        "id": "S6_DfNNvVy94",
        "outputId": "0218167f-ec57-43de-d2fa-c62f5cc1f355"
      },
      "execution_count": 20,
      "outputs": [
        {
          "output_type": "stream",
          "name": "stdout",
          "text": [
            "positive\n",
            "[0.6, 0.4]\n",
            "[0.42857142857142855, 0.5714285714285714]\n",
            "[0.42105263157894735, 0.5789473684210527]\n",
            "[0.7142857142857143, 0.2857142857142857]\n",
            "[0.625, 0.375]\n",
            "[0.0, 1.0]\n",
            "[0.3333333333333333, 0.6666666666666666]\n",
            "[0.29545454545454547, 0.7045454545454546]\n",
            "[0.3076923076923077, 0.6923076923076923]\n",
            "negative\n",
            "[0.27586206896551724, 0.7241379310344828]\n",
            "[0.0, 1.0]\n",
            "[0.2962962962962963, 0.7037037037037037]\n",
            "[0.4444444444444444, 0.5555555555555556]\n",
            "[0.13636363636363635, 0.8636363636363636]\n",
            "[0.18181818181818182, 0.8181818181818182]\n",
            "[0.17857142857142858, 0.8214285714285714]\n",
            "[0.2222222222222222, 0.7777777777777778]\n",
            "accuracy_score = 0.6470588235294118\n"
          ]
        }
      ]
    },
    {
      "cell_type": "markdown",
      "source": [
        "Тест хорошо предсказывает негативные и плохо позитивные отзывы. Почему? Можно посмотреть на размер множества \"позитивных\" и \"негативных\" слов. Второе множество значительно больше. Попробуем сделать вес \"положительных\" слов больше."
      ],
      "metadata": {
        "id": "X2OIHcSIebrM"
      }
    },
    {
      "cell_type": "code",
      "source": [
        "coef = len(only_positive) / len(only_negative)"
      ],
      "metadata": {
        "id": "9Sx6RR6Td-nm"
      },
      "execution_count": 21,
      "outputs": []
    },
    {
      "cell_type": "code",
      "source": [
        "def new_check_tone(text, positive_set, negative_set, coef):\n",
        "    prediction = 0\n",
        "    probability = [0, 0]\n",
        "    lemmas = m.lemmatize(text)\n",
        "    text_set = set(lemmas)\n",
        "    positive_len = len(text_set & positive_set)\n",
        "    negative_len = len(text_set & negative_set) * coef\n",
        "    if negative_len > positive_len:\n",
        "        prediction = -1\n",
        "    else:\n",
        "        prediction = 1\n",
        "    if positive_len + negative_len != 0:\n",
        "        probability = [positive_len / (positive_len + negative_len), negative_len / (positive_len + negative_len)]\n",
        "    return prediction, probability"
      ],
      "metadata": {
        "id": "nTVi_uAzfpXg"
      },
      "execution_count": 22,
      "outputs": []
    },
    {
      "cell_type": "code",
      "source": [
        "right_answers = 0\n",
        "all_answers = 0\n",
        "print('positive')\n",
        "for text in test_positive:\n",
        "    pred, prob = new_check_tone(text, only_positive, only_negative, coef)\n",
        "    print(prob)\n",
        "    if pred == 1:\n",
        "        right_answers += 1\n",
        "    all_answers += 1\n",
        "print('negative')\n",
        "for text in test_negative:\n",
        "    pred, prob = new_check_tone(text, only_positive, only_negative, coef)\n",
        "    print(prob)\n",
        "    if pred == -1:\n",
        "        right_answers += 1\n",
        "    all_answers += 1\n",
        "print('accuracy_score =', right_answers / all_answers)"
      ],
      "metadata": {
        "colab": {
          "base_uri": "https://localhost:8080/"
        },
        "id": "OIhg1RnAfkIt",
        "outputId": "9855af54-3f26-4822-eef4-b874b8cce054"
      },
      "execution_count": 24,
      "outputs": [
        {
          "output_type": "stream",
          "name": "stdout",
          "text": [
            "positive\n",
            "[0.7922437673130194, 0.2077562326869806]\n",
            "[0.6559633027522936, 0.3440366972477064]\n",
            "[0.6489859594383776, 0.35101404056162244]\n",
            "[0.8640483383685801, 0.13595166163141995]\n",
            "[0.809052333804809, 0.19094766619519093]\n",
            "[0.0, 1.0]\n",
            "[0.5596868884540117, 0.44031311154598823]\n",
            "[0.5159947262507807, 0.4840052737492193]\n",
            "[0.5304892186413169, 0.469510781358683]\n",
            "negative\n",
            "[0.49199010859047415, 0.5080098914095258]\n",
            "[0.0, 1.0]\n",
            "[0.517003728392272, 0.4829962716077279]\n",
            "[0.6703779665983006, 0.3296220334016994]\n",
            "[0.28642964446670005, 0.7135703555333]\n",
            "[0.36099715998737775, 0.6390028400126223]\n",
            "[0.35594275046670815, 0.6440572495332918]\n",
            "[0.4207429201912468, 0.5792570798087532]\n",
            "accuracy_score = 0.8235294117647058\n"
          ]
        }
      ]
    },
    {
      "cell_type": "markdown",
      "source": [
        "# Мы пытались...\n",
        "И у нас что-то получилось! Но модель стала менее уверена. Вероятности на негативных отзывах стали ближе к 0.5."
      ],
      "metadata": {
        "id": "dhhsRwjpgSce"
      }
    },
    {
      "cell_type": "markdown",
      "source": [
        "В положительных отзывах часто используются более нейтральные слова. Можно попробовать для балланса множеств брать слова не из 30 положительных отзывов, а из большей части, найденных на одной странице."
      ],
      "metadata": {
        "id": "h9D0xDd8hEbT"
      }
    },
    {
      "cell_type": "code",
      "source": [
        "k = 0\n",
        "new_positive_set = set()\n",
        "for text in pos_list[::2]:\n",
        "    k += 1\n",
        "    lemmas = m.lemmatize(text)\n",
        "    text_set = set(lemmas)\n",
        "    new_positive_set = new_positive_set | text_set\n",
        "    if k == 70:\n",
        "        break"
      ],
      "metadata": {
        "id": "-l9yNJXQhgTS"
      },
      "execution_count": 28,
      "outputs": []
    },
    {
      "cell_type": "code",
      "source": [
        "new_only_positive = new_positive_set - negative_set\n",
        "new_only_negative = negative_set - new_positive_set"
      ],
      "metadata": {
        "id": "peEepQUrh5Ah"
      },
      "execution_count": 29,
      "outputs": []
    },
    {
      "cell_type": "code",
      "source": [
        "print(len(new_positive_set), len(negative_set))\n",
        "print(len(new_only_positive), len(new_only_negative))"
      ],
      "metadata": {
        "colab": {
          "base_uri": "https://localhost:8080/"
        },
        "id": "S1ha3SqiiG47",
        "outputId": "ff8194dd-ca8f-417f-88f2-5ac35c103da2"
      },
      "execution_count": 30,
      "outputs": [
        {
          "output_type": "stream",
          "name": "stdout",
          "text": [
            "824 806\n",
            "483 465\n"
          ]
        }
      ]
    },
    {
      "cell_type": "markdown",
      "source": [
        "получилось почти поровну"
      ],
      "metadata": {
        "id": "j0aEHHa8pzWj"
      }
    },
    {
      "cell_type": "code",
      "source": [
        "right_answers = 0\n",
        "all_answers = 0\n",
        "print('positive')\n",
        "for text in test_positive:\n",
        "    pred, prob = check_tone(text, only_positive, only_negative)\n",
        "    print(prob)\n",
        "    if pred == 1:\n",
        "        right_answers += 1\n",
        "    all_answers += 1\n",
        "print('negative')\n",
        "for text in test_negative:\n",
        "    pred, prob = check_tone(text, only_positive, only_negative)\n",
        "    print(prob)\n",
        "    if pred == -1:\n",
        "        right_answers += 1\n",
        "    all_answers += 1\n",
        "print('accuracy_score =', right_answers / all_answers)"
      ],
      "metadata": {
        "colab": {
          "base_uri": "https://localhost:8080/"
        },
        "id": "KgBM2-MAiG9a",
        "outputId": "a7b434db-b2ab-4b75-9cf2-36a7288bbb67"
      },
      "execution_count": 31,
      "outputs": [
        {
          "output_type": "stream",
          "name": "stdout",
          "text": [
            "positive\n",
            "[0.6, 0.4]\n",
            "[0.42857142857142855, 0.5714285714285714]\n",
            "[0.42105263157894735, 0.5789473684210527]\n",
            "[0.7142857142857143, 0.2857142857142857]\n",
            "[0.625, 0.375]\n",
            "[0.0, 1.0]\n",
            "[0.3333333333333333, 0.6666666666666666]\n",
            "[0.29545454545454547, 0.7045454545454546]\n",
            "[0.3076923076923077, 0.6923076923076923]\n",
            "negative\n",
            "[0.27586206896551724, 0.7241379310344828]\n",
            "[0.0, 1.0]\n",
            "[0.2962962962962963, 0.7037037037037037]\n",
            "[0.4444444444444444, 0.5555555555555556]\n",
            "[0.13636363636363635, 0.8636363636363636]\n",
            "[0.18181818181818182, 0.8181818181818182]\n",
            "[0.17857142857142858, 0.8214285714285714]\n",
            "[0.2222222222222222, 0.7777777777777778]\n",
            "accuracy_score = 0.6470588235294118\n"
          ]
        }
      ]
    },
    {
      "cell_type": "markdown",
      "source": [
        "# Мы пытались...\n",
        "И у нас не получилось("
      ],
      "metadata": {
        "id": "pbUgSeQCp6mT"
      }
    },
    {
      "cell_type": "markdown",
      "source": [
        "Вообще я выбрала порог вхождения в отрицательный отзыв довольно большой - 3 звезды (из 5 и одной суперзвезды - странный сайт). Попробуем его уменьшить, но нам понадобится больше страничек."
      ],
      "metadata": {
        "id": "df5H4mV6qCDl"
      }
    },
    {
      "cell_type": "code",
      "source": [
        "def new_feedbacks_loading(link):\n",
        "    positive_list = []\n",
        "    negative_list = []\n",
        "    response = session.get(link)\n",
        "    page = response.text\n",
        "    soup = BeautifulSoup(page, 'html.parser')\n",
        "    ratings = soup.find_all('span', {'class': 'com-star'})\n",
        "    feedbacks_body = soup.find_all('div', {'class': 'text', 'itemprop': 'description'})\n",
        "    for i in range(len(ratings)):\n",
        "        stroka = ''\n",
        "        rating = str(ratings[i])\n",
        "        rate = int(rating[rating.find('meta') + 14])\n",
        "        if rate > 4:\n",
        "            positive_list.append(feedbacks_body[i].text)\n",
        "        elif rate <= 2:\n",
        "            negative_list.append(feedbacks_body[i].text)\n",
        "    return positive_list, negative_list"
      ],
      "metadata": {
        "id": "wOQrnq-dqSaD"
      },
      "execution_count": 34,
      "outputs": []
    },
    {
      "cell_type": "code",
      "source": [
        "new_pos_list, new_neg_list = new_feedbacks_loading('https://www.kaluga-poisk.ru/catalog/objects/peppers-pizza-peppers-pitstsa-y/reviews#cm-227550')"
      ],
      "metadata": {
        "id": "SnVW--K6qSes"
      },
      "execution_count": 35,
      "outputs": []
    },
    {
      "cell_type": "code",
      "source": [
        "print(len(new_pos_list), len(new_neg_list))"
      ],
      "metadata": {
        "colab": {
          "base_uri": "https://localhost:8080/"
        },
        "id": "Le57Lb_KqSiz",
        "outputId": "49a10581-1768-4926-ca17-e65a55c571d4"
      },
      "execution_count": 36,
      "outputs": [
        {
          "output_type": "stream",
          "name": "stdout",
          "text": [
            "183 20\n"
          ]
        }
      ]
    },
    {
      "cell_type": "code",
      "source": [
        "new_pos_list_1, new_neg_list_1 = new_feedbacks_loading('https://www.kaluga-poisk.ru/catalog/objects/tomato-kaluga/reviews#cm-30789')"
      ],
      "metadata": {
        "id": "5rRMYJPirNFC"
      },
      "execution_count": 37,
      "outputs": []
    },
    {
      "cell_type": "code",
      "source": [
        "print(len(new_pos_list_1), len(new_neg_list_1))"
      ],
      "metadata": {
        "colab": {
          "base_uri": "https://localhost:8080/"
        },
        "id": "ryMXJaD_rNKJ",
        "outputId": "b23842b3-6dae-48d9-bf22-1d9b1e6cd562"
      },
      "execution_count": 38,
      "outputs": [
        {
          "output_type": "stream",
          "name": "stdout",
          "text": [
            "29 22\n"
          ]
        }
      ]
    },
    {
      "cell_type": "code",
      "source": [
        "final_pos_list = new_pos_list + new_pos_list_1\n",
        "final_neg_list = new_neg_list + new_neg_list_1"
      ],
      "metadata": {
        "id": "60k3pb_2rNPQ"
      },
      "execution_count": 39,
      "outputs": []
    },
    {
      "cell_type": "markdown",
      "source": [
        "Получилось 42 негативных отзыва. Попробуем взять по 42 позитивных и негативных."
      ],
      "metadata": {
        "id": "b3eUySbhr-Ap"
      }
    },
    {
      "cell_type": "code",
      "source": [
        "positive_set_2 = set()\n",
        "negative_set_2 = set()"
      ],
      "metadata": {
        "id": "kQA7T9YJsX_J"
      },
      "execution_count": 40,
      "outputs": []
    },
    {
      "cell_type": "code",
      "source": [
        "for text in neg_list:\n",
        "    lemmas = m.lemmatize(text)\n",
        "    text_set = set(lemmas)\n",
        "    negative_set_2 = negative_set_2 | text_set\n",
        "k = 0\n",
        "for text in pos_list[::3]:\n",
        "    k += 1\n",
        "    lemmas = m.lemmatize(text)\n",
        "    text_set = set(lemmas)\n",
        "    positive_set_2 = positive_set_2 | text_set\n",
        "    if k == 42:\n",
        "        break"
      ],
      "metadata": {
        "id": "cDTEXf-jrNUX"
      },
      "execution_count": 44,
      "outputs": []
    },
    {
      "cell_type": "code",
      "source": [
        "only_positive_2 = positive_set_2 - negative_set_2\n",
        "only_negative_2 = negative_set_2 - positive_set_2"
      ],
      "metadata": {
        "id": "HqXz1pMQssbm"
      },
      "execution_count": 45,
      "outputs": []
    },
    {
      "cell_type": "code",
      "source": [
        "print(len(positive_set_2), len(negative_set_2))\n",
        "print(len(only_positive_2), len(only_negative_2))"
      ],
      "metadata": {
        "colab": {
          "base_uri": "https://localhost:8080/"
        },
        "id": "jf4p6pYgrNZH",
        "outputId": "05788cbf-62bf-4c82-f758-20b78b9a51e6"
      },
      "execution_count": 46,
      "outputs": [
        {
          "output_type": "stream",
          "name": "stdout",
          "text": [
            "573 806\n",
            "306 539\n"
          ]
        }
      ]
    },
    {
      "cell_type": "markdown",
      "source": [
        "перевес \"негативных\" слов чтал чуть меньше"
      ],
      "metadata": {
        "id": "cYVV-sr2tK5S"
      }
    },
    {
      "cell_type": "code",
      "source": [
        "right_answers = 0\n",
        "all_answers = 0\n",
        "print('positive')\n",
        "for text in test_positive:\n",
        "    pred, prob = check_tone(text, only_positive_2, only_negative_2)\n",
        "    print(prob)\n",
        "    if pred == 1:\n",
        "        right_answers += 1\n",
        "    all_answers += 1\n",
        "print('negative')\n",
        "for text in test_negative:\n",
        "    pred, prob = check_tone(text, only_positive_2, only_negative_2)\n",
        "    print(prob)\n",
        "    if pred == -1:\n",
        "        right_answers += 1\n",
        "    all_answers += 1\n",
        "print('accuracy_score =', right_answers / all_answers)"
      ],
      "metadata": {
        "colab": {
          "base_uri": "https://localhost:8080/"
        },
        "id": "5auc51ndrNdg",
        "outputId": "75629283-12e3-48f6-e6ef-87b546a9fe04"
      },
      "execution_count": 47,
      "outputs": [
        {
          "output_type": "stream",
          "name": "stdout",
          "text": [
            "positive\n",
            "[0.75, 0.25]\n",
            "[0.6, 0.4]\n",
            "[0.47058823529411764, 0.5294117647058824]\n",
            "[0.7142857142857143, 0.2857142857142857]\n",
            "[0.75, 0.25]\n",
            "[0.0, 1.0]\n",
            "[0.3333333333333333, 0.6666666666666666]\n",
            "[0.35714285714285715, 0.6428571428571429]\n",
            "[0.375, 0.625]\n",
            "negative\n",
            "[0.3103448275862069, 0.6896551724137931]\n",
            "[0.0, 1.0]\n",
            "[0.35714285714285715, 0.6428571428571429]\n",
            "[0.4444444444444444, 0.5555555555555556]\n",
            "[0.22727272727272727, 0.7727272727272727]\n",
            "[0.2, 0.8]\n",
            "[0.18518518518518517, 0.8148148148148148]\n",
            "[0.25, 0.75]\n",
            "accuracy_score = 0.7058823529411765\n"
          ]
        }
      ]
    },
    {
      "cell_type": "markdown",
      "source": [
        "# Мы пытались...\n",
        "и снова неплохо получилось!\n",
        "\n",
        "\n",
        "\n"
      ],
      "metadata": {
        "id": "F1Q7ljL3tb4c"
      }
    },
    {
      "cell_type": "markdown",
      "source": [
        "# Дальше идёт всякого рода помойка и попытки работы с сайтами irecommend.ru и Кинопоиск"
      ],
      "metadata": {
        "id": "bVVY_RzAto_8"
      }
    },
    {
      "cell_type": "code",
      "source": [
        "coef_1 = len(new_only_positive) / len(new_only_negative)"
      ],
      "metadata": {
        "id": "UtY8MKGckAiU"
      },
      "execution_count": 113,
      "outputs": []
    },
    {
      "cell_type": "code",
      "source": [
        "right_answers = 0\n",
        "all_answers = 0\n",
        "print('positive')\n",
        "for text in test_positive:\n",
        "    pred, prob = new_check_tone(text, only_positive, only_negative, coef_1)\n",
        "    print(prob)\n",
        "    if pred == 1:\n",
        "        right_answers += 1\n",
        "    all_answers += 1\n",
        "print('negative')\n",
        "for text in test_negative:\n",
        "    pred, prob = new_check_tone(text, only_positive, only_negative, coef_1)\n",
        "    print(prob)\n",
        "    if pred == -1:\n",
        "        right_answers += 1\n",
        "    all_answers += 1\n",
        "print('accuracy_score =', right_answers / all_answers)"
      ],
      "metadata": {
        "colab": {
          "base_uri": "https://localhost:8080/"
        },
        "id": "PlK-jdg6imlU",
        "outputId": "6f724459-5734-4242-8563-82b590708d91"
      },
      "execution_count": 114,
      "outputs": [
        {
          "output_type": "stream",
          "name": "stdout",
          "text": [
            "positive\n",
            "[0.10997442455242966, 0.8900255754475703]\n",
            "[0.0899581589958159, 0.9100418410041841]\n",
            "[0.17077045274027006, 0.82922954725973]\n",
            "[0.2478386167146974, 0.7521613832853026]\n",
            "[0.2833607907742998, 0.7166392092257001]\n",
            "[0.0, 1.0]\n",
            "[0.10997442455242966, 0.8900255754475703]\n",
            "[0.1281148429035753, 0.8718851570964247]\n",
            "[0.0970216606498195, 0.9029783393501805]\n",
            "negative\n",
            "[0.07915324436263231, 0.9208467556373677]\n",
            "[0.0, 1.0]\n",
            "[0.09335649153278333, 0.9066435084672166]\n",
            "[0.22872340425531915, 0.7712765957446809]\n",
            "[0.043000000000000003, 0.957]\n",
            "[0.0899581589958159, 0.9100418410041841]\n",
            "[0.08245445829338448, 0.9175455417066155]\n",
            "[0.0723905723905724, 0.9276094276094277]\n",
            "[0.058186738836265225, 0.9418132611637348]\n",
            "[0.031899109792284865, 0.9681008902077152]\n",
            "accuracy_score = 0.5263157894736842\n"
          ]
        }
      ]
    },
    {
      "cell_type": "markdown",
      "source": [
        "Объединение двух вариантов не срабатывает, так как негативные слова в любом случае чаще повторяются, чем нейтральные и положительные. А так как соотношение положительных и отрицательных теперь стало равным 2:1, то мы только больше увеличиваем вероятность того, что отзыв отрицательный."
      ],
      "metadata": {
        "id": "hTgtcpClkjG8"
      }
    },
    {
      "cell_type": "code",
      "source": [],
      "metadata": {
        "id": "oi0AtrIGinX0"
      },
      "execution_count": null,
      "outputs": []
    },
    {
      "cell_type": "code",
      "source": [
        "for elem in a:\n",
        "    stroka += str(elem)\n",
        "    rate = int(stroka[stroka.find('meta') + 14])\n",
        "print(a)\n",
        "print(rate)"
      ],
      "metadata": {
        "colab": {
          "base_uri": "https://localhost:8080/"
        },
        "id": "JXPAu0Ho3Pgi",
        "outputId": "3efc15cc-1c28-44f3-df99-8102a6ba4e28"
      },
      "execution_count": 37,
      "outputs": [
        {
          "output_type": "stream",
          "name": "stdout",
          "text": [
            "<span class=\"com-star\" itemprop=\"reviewRating\" itemscope=\"\" itemtype=\"https://schema.org/Rating\">\n",
            "<meta content=\"3\" itemprop=\"ratingValue\"/>\n",
            "<meta content=\"1\" itemprop=\"worstRating\"/>\n",
            "<meta content=\"6\" itemprop=\"bestRating\"/>\n",
            "</span>\n",
            "3\n"
          ]
        }
      ]
    },
    {
      "cell_type": "code",
      "source": [
        "for i in range(2, 101):\n",
        "    link = base_link + str(i)\n",
        "    response = session.get(link)\n",
        "    page = response.text\n",
        "    soup = BeautifulSoup(page, 'html.parser')\n",
        "    feedbacks = soup.find_all('div', {'class': 'reviewTextSnippet'})\n",
        "    for feedback in feedbacks:\n",
        "        feedback_link = feedback.find('a')\n",
        "        href_feedback = feedback_link.attrs['href']\n",
        "        response_1 = session.get(base_feedback + href_feedback)\n",
        "        page_1 = response_1.text\n",
        "        soup_1 = BeautifulSoup(page_1, 'html.parser')\n",
        "        try:\n",
        "            feedback_text = soup_1.find('div', {'class': 'description hasinlineimage', 'itemprop':'reviewBody'}).text\n",
        "            stars = soup_1.find_all('div', {'class': 'on'})\n",
        "            feedback_text = feedback_text.replace(\"\\n\", \" \")\n",
        "            if len(stars) / 2 > 3:\n",
        "                print(\"+++\")\n",
        "                f_positive.write(feedback_text)\n",
        "                f_positive.write(\"\\n\")\n",
        "            elif len(stars) / 2 < 3:\n",
        "                print(\"---\")\n",
        "                f_negative.write(feedback_text)\n",
        "                f_negative.write(\"\\n\")\n",
        "        except Exception as e:\n",
        "            print(e)\n",
        "        time.sleep(random.uniform(1.1, 5.2))\n",
        "    time.sleep(random.uniform(1.1, 5.2))"
      ],
      "metadata": {
        "id": "qLKn8BbvSXUB"
      },
      "execution_count": null,
      "outputs": []
    },
    {
      "cell_type": "code",
      "source": [
        "base_link = \"https://irecommend.ru/catalog/reviews/5?page=\"\n",
        "base_feedback = \"https://irecommend.ru\""
      ],
      "metadata": {
        "id": "6TcoUdNzAJS_"
      },
      "execution_count": 7,
      "outputs": []
    },
    {
      "cell_type": "code",
      "source": [
        "known_proxy_ip = '84.247.50.78:8443'\n",
        "proxy = {'http': known_proxy_ip, 'https': known_proxy_ip}"
      ],
      "metadata": {
        "id": "dx7ZHugL_Yb_"
      },
      "execution_count": 12,
      "outputs": []
    },
    {
      "cell_type": "code",
      "source": [
        "f_positive = open(\"positive_feedback.txt\", \"a\")\n",
        "f_negative = open(\"negative_feedback.txt\", \"a\")"
      ],
      "metadata": {
        "id": "P7TogzzZVN4q"
      },
      "execution_count": 10,
      "outputs": []
    },
    {
      "cell_type": "code",
      "source": [
        "for i in range(2, 101):\n",
        "    link = base_link + str(i)\n",
        "    response = session.get(link)\n",
        "    page = response.text\n",
        "    soup = BeautifulSoup(page, 'html.parser')\n",
        "    feedbacks = soup.find_all('div', {'class': 'reviewTextSnippet'})\n",
        "    for feedback in feedbacks:\n",
        "        feedback_link = feedback.find('a')\n",
        "        href_feedback = feedback_link.attrs['href']\n",
        "        response_1 = session.get(base_feedback + href_feedback)\n",
        "        page_1 = response_1.text\n",
        "        soup_1 = BeautifulSoup(page_1, 'html.parser')\n",
        "        try:\n",
        "            feedback_text = soup_1.find('div', {'class': 'description hasinlineimage', 'itemprop':'reviewBody'}).text\n",
        "            stars = soup_1.find_all('div', {'class': 'on'})\n",
        "            feedback_text = feedback_text.replace(\"\\n\", \" \")\n",
        "            if len(stars) / 2 > 3:\n",
        "                print(\"+++\")\n",
        "                f_positive.write(feedback_text)\n",
        "                f_positive.write(\"\\n\")\n",
        "            elif len(stars) / 2 < 3:\n",
        "                print(\"---\")\n",
        "                f_negative.write(feedback_text)\n",
        "                f_negative.write(\"\\n\")\n",
        "        except Exception as e:\n",
        "            print(e)\n",
        "        time.sleep(random.uniform(1.1, 5.2))\n",
        "    time.sleep(random.uniform(1.1, 5.2))"
      ],
      "metadata": {
        "colab": {
          "base_uri": "https://localhost:8080/"
        },
        "id": "ne20F2otNPr5",
        "outputId": "d148b7d5-4c02-4c12-e687-f884565ad8e4"
      },
      "execution_count": 14,
      "outputs": [
        {
          "output_type": "stream",
          "name": "stdout",
          "text": [
            "+++\n",
            "+++\n",
            "+++\n",
            "+++\n",
            "+++\n",
            "+++\n",
            "+++\n",
            "+++\n",
            "+++\n",
            "+++\n",
            "+++\n",
            "+++\n",
            "+++\n",
            "+++\n",
            "+++\n",
            "+++\n",
            "+++\n",
            "'NoneType' object has no attribute 'text'\n"
          ]
        }
      ]
    },
    {
      "cell_type": "code",
      "source": [
        "f_positive.close()\n",
        "f_negative.close()"
      ],
      "metadata": {
        "id": "stP0Fk1IVndy"
      },
      "execution_count": 15,
      "outputs": []
    },
    {
      "cell_type": "code",
      "source": [],
      "metadata": {
        "id": "uC8qmXbAlSR5"
      },
      "execution_count": null,
      "outputs": []
    },
    {
      "cell_type": "code",
      "source": [
        "from google.colab import drive\n",
        "drive.mount('/content/drive')"
      ],
      "metadata": {
        "id": "Wo7dr-KAhLDD"
      },
      "execution_count": null,
      "outputs": []
    },
    {
      "cell_type": "code",
      "source": [
        "stars = soup_1.find_all('div', {'class': 'on'})"
      ],
      "metadata": {
        "id": "4AXHb8PVz3Dq"
      },
      "execution_count": 52,
      "outputs": []
    },
    {
      "cell_type": "code",
      "source": [
        "len(stars)"
      ],
      "metadata": {
        "colab": {
          "base_uri": "https://localhost:8080/"
        },
        "id": "xbWrKsM-0Jx6",
        "outputId": "0c3b1397-4b22-4f04-94c9-120d9e9be57d"
      },
      "execution_count": 54,
      "outputs": [
        {
          "output_type": "execute_result",
          "data": {
            "text/plain": [
              "8"
            ]
          },
          "metadata": {},
          "execution_count": 54
        }
      ]
    },
    {
      "cell_type": "code",
      "source": [
        "feedback_set = set(nltk.word_tokenize(feedback_text))"
      ],
      "metadata": {
        "colab": {
          "base_uri": "https://localhost:8080/"
        },
        "id": "XFhXd9vmfUIk",
        "outputId": "eb4d7c9d-b621-42dd-9791-2f790408fd6e"
      },
      "execution_count": 47,
      "outputs": [
        {
          "output_type": "stream",
          "name": "stdout",
          "text": [
            "\n",
            "🔸🔸🔸Описание продукта🔸🔸🔸Платежный счет - это обычный счет, которым вы можете пользоваться, он является отдельным продуктом с определенными возможностями и исключениями. Почти как карта, ПОЧТИ!Как открыть: на главном экране в разделе «Кошелёк» нажмите «+», далее выбираете «Платёжный счёт». Он появляется моментально.Можно открыть неограниченное число счетов.При использовании можно в дальнейшем открыть банковскую карту и прикрепить ее к действующему счету, а не открывать совместно с картой и новый счет.Обслуживание: бесплатно, без каких-либо условий.Кэшбек: начисляют баллы точно так же как и по карте, исключений нет.Информация о счете от банка: \n",
            "\n",
            "\n",
            "\n",
            "\n",
            "\n",
            "\n",
            "\n",
            "\n",
            "\n",
            "\n",
            " \n",
            "\n",
            "\n",
            "\n",
            "\n",
            "\n",
            "\n",
            "\n",
            "\n",
            "\n",
            "\n",
            "Эта вся информация от банка по поводу пользования платежным счетом. В теории не все моменты понятны и только при пользовании счетом можно столкнуться с тем, где именно разница между платежным счетом и банковской картой, и какие ограничения действительно есть.И что же я выяснила? Рассказываю.🔸🔸🔸Мой отзыв🔸🔸🔸Я открыла себе Платежный счет вместо банковской карты, так как картой я пользуюсь редко (в преимуществе у меня на данный момент другой банк), то платить за обслуживание карты 150 р в месяц (!!!) я считаю абсурдным, поскольку необходимые условия для бесплатного обслуживания я не соблюдаю.Да, в других банках банковские карты есть с бесплатным обслуживанием без условий, а в Сбере нет такой карты, поэтому аналог только платежный счет.В чем разница между платежным счетом и накопительным (или сберегательным) счетом? Платежным можно пользоваться как картой (кроме некоторых исключений), а накопительный (или сберегательный) они не имеют вообще никаких функций, туда можно только положить деньги и потом вывести, они как тайник.Какие есть плюсы у платежного счета:Бесплатное обслуживание.Полноценные переводы между своими счетами и другим людям.Переводы на счет от других лиц без ограничений.Открыть можно любое количество счетов (а так же присвоить каждому счету свое название, сделав их под разные цели).Можно в любой момент присоединить банковскую карту к любому из счетов и со временем ее так же переподключить к другому счету за секунду.Можно оплачивать услуги связь, жкх и т.п. напрямую через приложение, тут разница от карты нет.Можно оплачивать покупки в магазине или интернете, но только через QR-код или СберПэй. Затруднительна система оплаты товаров, но она есть! (я не оплачивала пока ничего счетом, поэтому даже не знаю как это делать, так как банком почти не пользуюсь, если вы тратите в месяц от 5 тыс. руб., то проще завести карту). Какие минусы я обнаружила:Нельзя переводить деньги в другие банки по системе СБП. Но! Получать переводы по системе СБП можно! Поэтому придется делать перевод как раньше, с комиссией. При попытке оформить перевод по СБП, выдает такую картину: \n",
            "\n",
            "\n",
            "\n",
            "\n",
            "\n",
            "\n",
            "\n",
            "\n",
            "\n",
            "\n",
            "Настройка автоплатежа невозможна. Если у вас такие были, они не будут работать и создать новый автоплатеж без банковской карты не получится. \n",
            "\n",
            "\n",
            "\n",
            "\n",
            "\n",
            "\n",
            "\n",
            "\n",
            "\n",
            "\n",
            "Вот такие нюансы выяснились при использовании платежного счета без наличия банковской карты.Заключение:Конечно данный счет не заменит полностью банковскую карту, так как отсутствуют важные функции. Как говорится, человек быстро привыкает к хорошему, а тут его лишают некоторых возможностей и уже не уютно без них.Но я довольна продуктом, все что мне необходимо тут есть, так как ренее у банка вообще была проблема со счетами, без карты к счету доступа не было. У меня истек срок по карте и все, я не могла вытащить деньги со счета, банк просто не дает возможности вывести деньги себе же на другой счет в банке или сделать перевод в другой банк, нет и все, идите мол в банк в кассу и снимайте деньги там. 🤦‍♀️ Везде тогда консультировалась и решение было только одно - идите в банк. Но, как оказалось, можно было закрыть просто счет и карту и тогда деньги автоматически переводятся на другой счет, об этом никто из сотрудников не знает. Я рекомендую данный платежный счет, очень удобно. Если вы тоже не активный клиент банка. Так как вариантов-то и нет других. Снимаю звездочку из-за отсутствия возможности делать переводы по СБП. Мои отзывы на другие банковские продукты:Накопительный счет СбербанкаСберкартаА также Накопительный счет Альфа-банка \n"
          ]
        }
      ]
    },
    {
      "cell_type": "code",
      "source": [
        "<div class=\"smTeaser plate teaser-item \" data-type=\"1\" data-nid=\"9431363\"\n",
        "<div class=\"reviewTextSnippet\" data-text=\"Читать весь отзыв\">\n",
        "class=\"more\"\n",
        "\n",
        "Посчитать количество on-off в stars rating"
      ],
      "metadata": {
        "id": "jbMJNkNWYNk9"
      },
      "execution_count": null,
      "outputs": []
    }
  ]
}